{
 "cells": [
  {
   "cell_type": "code",
   "execution_count": 6,
   "metadata": {},
   "outputs": [],
   "source": [
    "def greating():\n",
    "    print('😊'*7)\n",
    "    print('congratulation')\n",
    "    print('😊'*7)"
   ]
  },
  {
   "cell_type": "code",
   "execution_count": 3,
   "metadata": {},
   "outputs": [
    {
     "data": {
      "text/plain": [
       "<function __main__.greating()>"
      ]
     },
     "execution_count": 3,
     "metadata": {},
     "output_type": "execute_result"
    }
   ],
   "source": [
    "greating"
   ]
  },
  {
   "cell_type": "code",
   "execution_count": 7,
   "metadata": {},
   "outputs": [
    {
     "name": "stdout",
     "output_type": "stream",
     "text": [
      "😊😊😊😊😊😊😊\n",
      "congratulation\n",
      "😊😊😊😊😊😊😊\n"
     ]
    }
   ],
   "source": [
    "greating()"
   ]
  },
  {
   "cell_type": "code",
   "execution_count": 8,
   "metadata": {},
   "outputs": [],
   "source": [
    "def hyp(p,b):\n",
    "    c = (p**2 + b**2)**0.5\n",
    "    print(c)"
   ]
  },
  {
   "cell_type": "code",
   "execution_count": 9,
   "metadata": {},
   "outputs": [
    {
     "data": {
      "text/plain": [
       "<function __main__.hyp(p, b)>"
      ]
     },
     "execution_count": 9,
     "metadata": {},
     "output_type": "execute_result"
    }
   ],
   "source": [
    "hyp"
   ]
  },
  {
   "cell_type": "code",
   "execution_count": 10,
   "metadata": {},
   "outputs": [
    {
     "ename": "TypeError",
     "evalue": "hyp() missing 2 required positional arguments: 'p' and 'b'",
     "output_type": "error",
     "traceback": [
      "\u001b[1;31m---------------------------------------------------------------------------\u001b[0m",
      "\u001b[1;31mTypeError\u001b[0m                                 Traceback (most recent call last)",
      "Cell \u001b[1;32mIn[10], line 1\u001b[0m\n\u001b[1;32m----> 1\u001b[0m hyp()\n",
      "\u001b[1;31mTypeError\u001b[0m: hyp() missing 2 required positional arguments: 'p' and 'b'"
     ]
    }
   ],
   "source": [
    "hyp()"
   ]
  },
  {
   "cell_type": "code",
   "execution_count": 11,
   "metadata": {},
   "outputs": [
    {
     "name": "stdout",
     "output_type": "stream",
     "text": [
      "12.041594578792296\n"
     ]
    }
   ],
   "source": [
    "hyp(8, 9)"
   ]
  },
  {
   "cell_type": "code",
   "execution_count": 17,
   "metadata": {},
   "outputs": [
    {
     "name": "stdout",
     "output_type": "stream",
     "text": [
      "8.94427190999916\n",
      "10.63014581273465\n",
      "9.219544457292887\n",
      "None\n",
      "None\n",
      "None\n"
     ]
    },
    {
     "ename": "TypeError",
     "evalue": "unsupported operand type(s) for +: 'NoneType' and 'NoneType'",
     "output_type": "error",
     "traceback": [
      "\u001b[1;31m---------------------------------------------------------------------------\u001b[0m",
      "\u001b[1;31mTypeError\u001b[0m                                 Traceback (most recent call last)",
      "Cell \u001b[1;32mIn[17], line 7\u001b[0m\n\u001b[0;32m      5\u001b[0m \u001b[38;5;28mprint\u001b[39m(b)\n\u001b[0;32m      6\u001b[0m \u001b[38;5;28mprint\u001b[39m(c)\n\u001b[1;32m----> 7\u001b[0m \u001b[38;5;28mprint\u001b[39m(a\u001b[38;5;241m+\u001b[39mb\u001b[38;5;241m+\u001b[39mc)\n",
      "\u001b[1;31mTypeError\u001b[0m: unsupported operand type(s) for +: 'NoneType' and 'NoneType'"
     ]
    }
   ],
   "source": [
    "a = hyp(4, 8)\n",
    "b = hyp(7, 8)\n",
    "c = hyp(2, 9)\n",
    "print(a)\n",
    "print(b)\n",
    "print(c)\n",
    "print(a+b+c)\n"
   ]
  },
  {
   "cell_type": "code",
   "execution_count": 15,
   "metadata": {},
   "outputs": [],
   "source": [
    "def rect_area(length, breadth):\n",
    "    area = length * breadth\n",
    "    return area"
   ]
  },
  {
   "cell_type": "code",
   "execution_count": 16,
   "metadata": {},
   "outputs": [
    {
     "name": "stdout",
     "output_type": "stream",
     "text": [
      "6699\n",
      "2420\n",
      "9119\n"
     ]
    }
   ],
   "source": [
    "a = rect_area(87, 77)\n",
    "print(a)\n",
    "b = rect_area(44, 55)\n",
    "print(b)\n",
    "print(a + b)"
   ]
  },
  {
   "cell_type": "code",
   "execution_count": 2,
   "metadata": {},
   "outputs": [],
   "source": [
    "from random import choice\n",
    "def roll_dice():\n",
    "    faces = ['1️⃣', '2️⃣', '3️⃣', '4️⃣', '5️⃣', '6️⃣']\n",
    "    chosen = choice(faces)\n",
    "    return chosen"
   ]
  },
  {
   "cell_type": "code",
   "execution_count": 19,
   "metadata": {},
   "outputs": [
    {
     "name": "stdout",
     "output_type": "stream",
     "text": [
      "4️⃣\n"
     ]
    }
   ],
   "source": [
    "print(roll_dice())"
   ]
  },
  {
   "cell_type": "code",
   "execution_count": 3,
   "metadata": {},
   "outputs": [
    {
     "name": "stdout",
     "output_type": "stream",
     "text": [
      "5️⃣\n",
      "6️⃣\n",
      "2️⃣\n",
      "4️⃣\n",
      "3️⃣\n",
      "6️⃣\n",
      "1️⃣\n",
      "6️⃣\n",
      "6️⃣\n",
      "1️⃣\n",
      "3️⃣\n",
      "1️⃣\n",
      "6️⃣\n",
      "6️⃣\n",
      "1️⃣\n",
      "2️⃣\n",
      "5️⃣\n",
      "6️⃣\n",
      "4️⃣\n",
      "2️⃣\n",
      "3️⃣\n",
      "4️⃣\n",
      "6️⃣\n",
      "4️⃣\n",
      "1️⃣\n",
      "2️⃣\n",
      "1️⃣\n",
      "1️⃣\n",
      "5️⃣\n",
      "2️⃣\n",
      "2️⃣\n",
      "3️⃣\n"
     ]
    }
   ],
   "source": [
    "print(roll_dice())\n",
    "print(roll_dice())\n",
    "print(roll_dice())\n",
    "print(roll_dice())\n",
    "print(roll_dice())\n",
    "print(roll_dice())\n",
    "print(roll_dice())\n",
    "print(roll_dice())\n",
    "print(roll_dice())\n",
    "print(roll_dice())\n",
    "print(roll_dice())\n",
    "print(roll_dice())\n",
    "print(roll_dice())\n",
    "print(roll_dice())\n",
    "print(roll_dice())\n",
    "print(roll_dice())\n",
    "print(roll_dice())\n",
    "print(roll_dice())\n",
    "print(roll_dice())\n",
    "print(roll_dice())\n",
    "print(roll_dice())\n",
    "print(roll_dice())\n",
    "print(roll_dice())\n",
    "print(roll_dice())\n",
    "print(roll_dice())\n",
    "print(roll_dice())\n",
    "print(roll_dice())\n",
    "print(roll_dice())\n",
    "print(roll_dice())\n",
    "print(roll_dice())\n",
    "print(roll_dice())\n",
    "print(roll_dice())"
   ]
  },
  {
   "cell_type": "code",
   "execution_count": 4,
   "metadata": {},
   "outputs": [],
   "source": [
    "def get_total(price, bank_card):\n",
    "    if bank_card == 'axis':\n",
    "        discount = price * 0.10\n",
    "        return price - discount\n",
    "    elif bank_card == 'hdfc':\n",
    "        discount = price * 0.15\n",
    "        return price - discount\n",
    "    elif bank_card == 'icici':\n",
    "        return price - discount\n",
    "    elif bank_card == 'sbi':\n",
    "        discount = price * 0.17\n",
    "        return price - discount\n",
    "    else:\n",
    "        return price\n",
    "\n",
    "\n"
   ]
  },
  {
   "cell_type": "code",
   "execution_count": 6,
   "metadata": {},
   "outputs": [
    {
     "data": {
      "text/plain": [
       "42500.0"
      ]
     },
     "execution_count": 6,
     "metadata": {},
     "output_type": "execute_result"
    }
   ],
   "source": [
    "get_total(50000, 'hdfc')"
   ]
  },
  {
   "cell_type": "code",
   "execution_count": 14,
   "metadata": {},
   "outputs": [
    {
     "name": "stdout",
     "output_type": "stream",
     "text": [
      "Factorial of 45 is: 119622220865480194561963161495657715064383733760000000000\n"
     ]
    }
   ],
   "source": [
    "#Write a program to calculate the factorial of a number using a for loop.\n",
    "num = int(input('Enter a number: '))\n",
    "fact = 1\n",
    "for i in range (1, num + 1):\n",
    "    fact *= i\n",
    "print(\"Factorial of\" , num, \"is:\", x)\n"
   ]
  },
  {
   "cell_type": "code",
   "execution_count": 1,
   "metadata": {},
   "outputs": [
    {
     "name": "stdout",
     "output_type": "stream",
     "text": [
      "Factorial of 88 is: 185482642257398439114796845645546284380220968949399346684421580986889562184028199319100141244804501828416633516851200000000000000000000\n"
     ]
    }
   ],
   "source": [
    "# Input a number from the user\n",
    "num = int(input(\"Enter a number: \"))\n",
    "\n",
    "# Initialize the factorial to 1\n",
    "fact = 1\n",
    "\n",
    "# Calculate the factorial using a for loop\n",
    "for i in range(1, num + 1):\n",
    "    fact *= i\n",
    "\n",
    "# Print the factorial\n",
    "print(\"Factorial of\", num, \"is:\", fact)\n"
   ]
  },
  {
   "cell_type": "code",
   "execution_count": 2,
   "metadata": {},
   "outputs": [
    {
     "name": "stdout",
     "output_type": "stream",
     "text": [
      "150777392777717065903328562798297482932764849966301315324902295697797980802999492049275470580840593582700556154654997912467653672836190567363944536581444396786039028419417159553169852939652733499484374432647121409002713034716885273557660568294514238651304204026421026217797122437474581042706674997505548774529387552185264469304745879944335896334980134727576771262477699704913814778801164976379963316514713032786305083016847394455111607701177156363125206697642497352441989049637406799105387152093299654856194446887474831405921359722324720996553956200165400519069670468845686118517860926559421327845227712982865242890852011587912148558934925229259778865164753102371910801614732061965104129730561590839408147446252948841011789641706225763887234100676084552005497753764496546383864694159909979495432469993306110242973486330432796522331628915418533758582252153753291412897349335363154308911927972242304805109760000000000000000000000000000000000000000000000000000000000000000000000000000000000000000000000000000000000000000\n"
     ]
    }
   ],
   "source": [
    "num = int(input(\"Enter a number\"))\n",
    "x = 1\n",
    "for i in range(1, num+1):\n",
    "    x *= i\n",
    "print(x)"
   ]
  },
  {
   "cell_type": "code",
   "execution_count": null,
   "metadata": {},
   "outputs": [],
   "source": []
  }
 ],
 "metadata": {
  "kernelspec": {
   "display_name": "base",
   "language": "python",
   "name": "python3"
  },
  "language_info": {
   "codemirror_mode": {
    "name": "ipython",
    "version": 3
   },
   "file_extension": ".py",
   "mimetype": "text/x-python",
   "name": "python",
   "nbconvert_exporter": "python",
   "pygments_lexer": "ipython3",
   "version": "3.11.5"
  }
 },
 "nbformat": 4,
 "nbformat_minor": 2
}
